{
 "cells": [
  {
   "cell_type": "markdown",
   "id": "ca56c535",
   "metadata": {},
   "source": [
    "# 🛍️ Sales Forecasting Using Time Series"
   ]
  },
  {
   "cell_type": "code",
   "execution_count": null,
   "id": "132167c1",
   "metadata": {},
   "outputs": [],
   "source": [
    "import pandas as pd\n",
    "import matplotlib.pyplot as plt\n",
    "from prophet import Prophet"
   ]
  },
  {
   "cell_type": "code",
   "execution_count": null,
   "id": "06e7a097",
   "metadata": {},
   "outputs": [],
   "source": [
    "df = pd.read_csv('sales_data.csv')\n",
    "df.head()"
   ]
  },
  {
   "cell_type": "code",
   "execution_count": null,
   "id": "a7fae586",
   "metadata": {},
   "outputs": [],
   "source": [
  
    "df['Month'] = pd.to_datetime(df['Month'])\n",
    "df = df.rename(columns={'Month': 'ds', 'Sales': 'y'})"
   ]
  },
  {
   "cell_type": "code",
   "execution_count": null,
   "id": "6f972a25",
   "metadata": {},
   "outputs": [],
   "source": [
 
    "model = Prophet()\n",
    "model.fit(df)"
   ]
  },
  {
   "cell_type": "code",
   "execution_count": null,
   "id": "18981d0c",
   "metadata": {},
   "outputs": [],
   "source": [
    
    "future = model.make_future_dataframe(periods=6, freq='M')\n",
    "forecast = model.predict(future)"
   ]
  },
  {
   "cell_type": "code",
   "execution_count": null,
   "id": "3aecb1ec",
   "metadata": {},
   "outputs": [],
   "source": [
    
    "fig = model.plot(forecast)\n",
    "plt.title('Sales Forecast')\n",
    "plt.xlabel('Date')\n",
    "plt.ylabel('Sales')\n",
    "plt.show()"
   ]
  },
  {
   "cell_type": "code",
   "execution_count": null,
   "id": "a8b3918c",
   "metadata": {},
   "outputs": [],
   "source": [
    
    "from sklearn.metrics import mean_absolute_error, mean_absolute_percentage_error\n",
    "actual = df.set_index('ds').y[-6:]\n",
    "predicted = forecast.set_index('ds').yhat[-12:-6]\n",
    "mae = mean_absolute_error(actual, predicted)\n",
    "mape = mean_absolute_percentage_error(actual, predicted)\n",
    "print(f'MAE: {mae}, MAPE: {mape}')"
   ]
  }
 ],
 "metadata": {},
 "nbformat": 4,
 "nbformat_minor": 5
}
